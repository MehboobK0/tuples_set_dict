{
 "cells": [
  {
   "cell_type": "markdown",
   "id": "71a91c24",
   "metadata": {},
   "source": [
    "Q1. Characteristics of tuples:\n",
    "\n",
    "Tuples are ordered collections of elements.\n",
    "Tuples are immutable, meaning their elements cannot be changed after creation.\n",
    "Tuples can contain elements of different data types.\n",
    "Tuples can be nested, meaning a tuple can contain other tuples as elements.\n",
    "Yes, tuples are immutable.\n",
    "\n"
   ]
  },
  {
   "cell_type": "code",
   "execution_count": 39,
   "id": "7144b969",
   "metadata": {},
   "outputs": [
    {
     "name": "stdout",
     "output_type": "stream",
     "text": [
      "Count of 1: 3\n"
     ]
    }
   ],
   "source": [
    "# Q2. Two tuple methods in Python:\n",
    "\n",
    "# count(): This method returns the number of occurrences of a specified value in the tuple.\n",
    "# Example:\n",
    "\n",
    "my_tuple = (1, 2, 3, 1, 4, 1)\n",
    "count = my_tuple.count(1)\n",
    "print(\"Count of 1:\", count)"
   ]
  },
  {
   "cell_type": "code",
   "execution_count": 40,
   "id": "3ba1c3c3",
   "metadata": {},
   "outputs": [
    {
     "name": "stdout",
     "output_type": "stream",
     "text": [
      "Index of 4: 4\n"
     ]
    }
   ],
   "source": [
    "my_tuple = (1, 2, 3, 1, 4, 1)\n",
    "index = my_tuple.index(4)\n",
    "print(\"Index of 4:\", index)"
   ]
  },
  {
   "cell_type": "markdown",
   "id": "3aaa1ae1",
   "metadata": {},
   "source": [
    "Tuples have only two in-built methods (count() and index()) compared to lists because tuples are immutable, so they do not require methods for adding, removing, or modifying elements like lists do."
   ]
  },
  {
   "cell_type": "code",
   "execution_count": 41,
   "id": "2667738b",
   "metadata": {},
   "outputs": [
    {
     "name": "stdout",
     "output_type": "stream",
     "text": [
      "List after removing duplicates: [1, 2, 3, 4]\n"
     ]
    }
   ],
   "source": [
    "# Q3. Collection datatypes in Python that do not allow duplicate items include sets and dictionaries. To remove duplicates from a list using a set:\n",
    "\n",
    "\n",
    "my_list = [1, 1, 1, 2, 1, 3, 1, 4, 2, 1, 2, 2, 2, 3, 2, 4, 3, 1, 3, 2, 3, 3, 3, 4, 4, 1, 4, 2, 4, 3, 4, 4]\n",
    "unique_items = set(my_list)\n",
    "unique_list = list(unique_items)\n",
    "print(\"List after removing duplicates:\", unique_list)\n"
   ]
  },
  {
   "cell_type": "code",
   "execution_count": 42,
   "id": "2ca8e3d0",
   "metadata": {},
   "outputs": [
    {
     "name": "stdout",
     "output_type": "stream",
     "text": [
      "Union set: {1, 2, 3, 4, 5}\n"
     ]
    }
   ],
   "source": [
    "# Q4. Difference between union() and update() methods for a set:\n",
    "\n",
    "# union(): This method returns a new set containing the union of two or more sets.\n",
    "# Example:\n",
    "\n",
    "set1 = {1, 2, 3}\n",
    "set2 = {3, 4, 5}\n",
    "union_set = set1.union(set2)\n",
    "print(\"Union set:\", union_set)\n"
   ]
  },
  {
   "cell_type": "code",
   "execution_count": 43,
   "id": "e5ce6580",
   "metadata": {},
   "outputs": [
    {
     "name": "stdout",
     "output_type": "stream",
     "text": [
      "Updated set1: {1, 2, 3, 4, 5}\n"
     ]
    }
   ],
   "source": [
    "# update(): This method adds elements from another set (or any iterable) to the current set.\n",
    "# Example:\n",
    "\n",
    "set1 = {1, 2, 3}\n",
    "set2 = {3, 4, 5}\n",
    "set1.update(set2)\n",
    "print(\"Updated set1:\", set1)"
   ]
  },
  {
   "cell_type": "code",
   "execution_count": 45,
   "id": "5af96f50",
   "metadata": {},
   "outputs": [],
   "source": [
    "# Q5. A dictionary in Python is an unordered collection of key-value pairs. Each key-value pair in a dictionary is separated by a colon (:), and each pair is separated by a comma (,). Dictionaries are mutable, meaning their elements can be changed after creation. Example:\n",
    "\n",
    "\n",
    "my_dict = {'name': 'John', 'age': 30, 'city': 'New York'}\n",
    "# Dictionaries are unordered, meaning the order of elements in a dictionary is not guaranteed.\n",
    "\n"
   ]
  },
  {
   "cell_type": "code",
   "execution_count": 46,
   "id": "6f32017e",
   "metadata": {},
   "outputs": [],
   "source": [
    "# Q6. Yes, we can create a nested dictionary in Python. Example:\n",
    "\n",
    "\n",
    "nested_dict = {'person1': {'name': 'John', 'age': 30},\n",
    "               'person2': {'name': 'Alice', 'age': 25}}"
   ]
  },
  {
   "cell_type": "code",
   "execution_count": 47,
   "id": "c526974c",
   "metadata": {},
   "outputs": [
    {
     "name": "stdout",
     "output_type": "stream",
     "text": [
      "{'language': 'Python', 'course': 'Data Science Masters', 'topics': ['Python', 'Machine Learning', 'Deep Learning']}\n"
     ]
    }
   ],
   "source": [
    "# Q7. Using setdefault() method to add key 'topics' and value ['Python', 'Machine Learning', 'Deep Learning'] in the given dictionary:\n",
    "\n",
    "\n",
    "dict1 = {'language': 'Python', 'course': 'Data Science Masters'}\n",
    "dict1.setdefault('topics', ['Python', 'Machine Learning', 'Deep Learning'])\n",
    "print(dict1)"
   ]
  },
  {
   "cell_type": "code",
   "execution_count": 48,
   "id": "198e5d87",
   "metadata": {},
   "outputs": [
    {
     "name": "stdout",
     "output_type": "stream",
     "text": [
      "Keys view: dict_keys(['Sport', 'Teams'])\n",
      "Values view: dict_values(['Cricket', ['India', 'Australia', 'England', 'South Africa', 'Sri Lanka', 'New Zealand']])\n",
      "Items view: dict_items([('Sport', 'Cricket'), ('Teams', ['India', 'Australia', 'England', 'South Africa', 'Sri Lanka', 'New Zealand'])])\n"
     ]
    }
   ],
   "source": [
    "# Q8. Three view objects in dictionaries:\n",
    "\n",
    "# keys(): This method returns a view object containing the keys of the dictionary.\n",
    "# values(): This method returns a view object containing the values of the dictionary.\n",
    "# items(): This method returns a view object containing the key-value pairs of the dictionary as tuples.\n",
    "# Example:\n",
    "\n",
    "\n",
    "dict1 = {'Sport': 'Cricket', 'Teams': ['India', 'Australia', 'England', 'South Africa', 'Sri Lanka', 'New Zealand']}\n",
    "keys_view = dict1.keys()\n",
    "values_view = dict1.values()\n",
    "items_view = dict1.items()\n",
    "print(\"Keys view:\", keys_view)\n",
    "print(\"Values view:\", values_view)\n",
    "print(\"Items view:\", items_view)\n",
    "\n",
    "\n",
    "\n",
    "\n",
    "\n"
   ]
  },
  {
   "cell_type": "code",
   "execution_count": null,
   "id": "6efcd148",
   "metadata": {},
   "outputs": [],
   "source": []
  }
 ],
 "metadata": {
  "kernelspec": {
   "display_name": "Python 3 (ipykernel)",
   "language": "python",
   "name": "python3"
  },
  "language_info": {
   "codemirror_mode": {
    "name": "ipython",
    "version": 3
   },
   "file_extension": ".py",
   "mimetype": "text/x-python",
   "name": "python",
   "nbconvert_exporter": "python",
   "pygments_lexer": "ipython3",
   "version": "3.9.12"
  }
 },
 "nbformat": 4,
 "nbformat_minor": 5
}
